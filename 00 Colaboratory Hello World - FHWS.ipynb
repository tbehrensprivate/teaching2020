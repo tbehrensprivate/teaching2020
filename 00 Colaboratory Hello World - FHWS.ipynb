{
 "cells": [
  {
   "cell_type": "markdown",
   "metadata": {},
   "source": [
    "# 00 Colaboratory Hello World\n",
    "## Dr. Tristan Behrens\n",
    "\n",
    "This notebook has a single purpose:\n",
    "- introducing you to Google's Colaboratory."
   ]
  },
  {
   "cell_type": "markdown",
   "metadata": {},
   "source": [
    "## Things to do.\n",
    "\n",
    "1. Go to https://colab.research.google.com. Create a Google account before that if necessary.\n",
    "2. Click on the \"Upload\" tab on the right side and upload this notebook.\n",
    "3. Once the notebook has been uploaded, go to the menu. Change Runtime -> Change Runtimetype -> Hardware Accelerator -> GPU -> Save. Now you have enabled GPU-support.\n",
    "4. Again go to the menu. Runtime -> Run all.\n",
    "5. Wait for the notebook to finish."
   ]
  },
  {
   "cell_type": "markdown",
   "metadata": {},
   "source": [
    "## About Google Colaboratory.\n",
    "\n",
    "- Colaboratory allows you to run notebooks on Google's cloud servers.\n",
    "- It is a very good start for learning how to work with notebooks.\n",
    "- No installation is required.\n",
    "- Only use it for learning. Especially do not use it with client's data."
   ]
  },
  {
   "cell_type": "markdown",
   "metadata": {},
   "source": [
    "## Make sure that we have TensorFlow 2 enabled."
   ]
  },
  {
   "cell_type": "code",
   "execution_count": null,
   "metadata": {},
   "outputs": [],
   "source": [
    "%tensorflow_version 2.x"
   ]
  },
  {
   "cell_type": "markdown",
   "metadata": {},
   "source": [
    "## Import all necessary modules  and check TensorFlow version."
   ]
  },
  {
   "cell_type": "code",
   "execution_count": null,
   "metadata": {},
   "outputs": [],
   "source": [
    "import tensorflow as tf\n",
    "if tf.__version__.startswith(\"2.\"):\n",
    "    print(\"You have TensorFlow version 2. Great!\")\n",
    "else:\n",
    "    print(\"You DO NOT have TensorFlow version 2. Something went wrong.\")\n",
    "\n",
    "import tensorflow_datasets as tfds\n",
    "import numpy as np\n",
    "import matplotlib.pyplot as plt\n",
    "from tensorflow.keras import models, layers"
   ]
  },
  {
   "cell_type": "markdown",
   "metadata": {},
   "source": [
    "# Hello World."
   ]
  },
  {
   "cell_type": "code",
   "execution_count": null,
   "metadata": {},
   "outputs": [],
   "source": [
    "print(\"Hello, World!\")"
   ]
  },
  {
   "cell_type": "markdown",
   "metadata": {},
   "source": [
    "# Summary.\n",
    "\n",
    "This notebook showed you how to get started with Google Colaboratory.\n",
    "\n",
    "Thank you so much for learning. Keep an eye out for more. And if there is a topic that I did not cover, let me know!"
   ]
  }
 ],
 "metadata": {
  "kernelspec": {
   "display_name": "Python 3",
   "language": "python",
   "name": "python3"
  },
  "language_info": {
   "codemirror_mode": {
    "name": "ipython",
    "version": 3
   },
   "file_extension": ".py",
   "mimetype": "text/x-python",
   "name": "python",
   "nbconvert_exporter": "python",
   "pygments_lexer": "ipython3",
   "version": "3.7.7"
  }
 },
 "nbformat": 4,
 "nbformat_minor": 2
}
