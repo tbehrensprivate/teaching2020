{
 "cells": [
  {
   "cell_type": "markdown",
   "metadata": {
    "colab_type": "text",
    "id": "rwIadju7G3cL"
   },
   "source": [
    "# 04 Image Processing\n",
    "## Dr. Tristan Behrens\n",
    "\n",
    "In this notebook we will:\n",
    "- Solve the CIFAR-10 classification problem,\n",
    "- to that end use Convolutional Neural Networks,\n",
    "- decrease overfitting with dropout, and\n",
    "- decrease overfitting even further with data augmentation."
   ]
  },
  {
   "cell_type": "markdown",
   "metadata": {
    "colab_type": "text",
    "id": "TQ16LaARG3cN"
   },
   "source": [
    "## Make sure that we have TensorFlow 2 enabled."
   ]
  },
  {
   "cell_type": "code",
   "execution_count": null,
   "metadata": {
    "colab": {},
    "colab_type": "code",
    "id": "cC1bLcDvG3cP"
   },
   "outputs": [],
   "source": [
    "%tensorflow_version 2.x"
   ]
  },
  {
   "cell_type": "markdown",
   "metadata": {
    "colab_type": "text",
    "id": "Px5ywWDNG3cd"
   },
   "source": [
    "## Import all necessary modules  and check TensorFlow version."
   ]
  },
  {
   "cell_type": "code",
   "execution_count": null,
   "metadata": {
    "colab": {},
    "colab_type": "code",
    "id": "Zh5KlVNrG3cg"
   },
   "outputs": [],
   "source": [
    "import tensorflow as tf\n",
    "assert tf.__version__.startswith(\"2.\"), \"You have TensorFlow version {}, 2.X is required, please upgrade.\".format(tf.__version__)\n",
    "\n",
    "import tensorflow_datasets as tfds\n",
    "import numpy as np\n",
    "import matplotlib.pyplot as plt\n",
    "from tensorflow.keras import models, layers"
   ]
  },
  {
   "cell_type": "markdown",
   "metadata": {
    "colab_type": "text",
    "id": "uY4tv0a4ah0J"
   },
   "source": [
    "## Set some parameters and prepare for training."
   ]
  },
  {
   "cell_type": "code",
   "execution_count": null,
   "metadata": {
    "colab": {},
    "colab_type": "code",
    "id": "0Aau8P5Gah-M"
   },
   "outputs": [],
   "source": [
    "histories = {}\n",
    "epochs = 100\n",
    "batch_size = 1024"
   ]
  },
  {
   "cell_type": "markdown",
   "metadata": {
    "colab_type": "text",
    "id": "4GExuqFsG3co"
   },
   "source": [
    "## Load and split CIFAR-10-dataset.\n",
    "\n",
    "We split the data into tree subsets:\n",
    "- Train: For training the Neural Network.\n",
    "- Validate: To see how good the Neural Network is after each epoch.\n",
    "- Test: To see how good the Neural Network is after training.\n",
    "\n",
    "Link: [CIFAR-10 and CIFAR-100](https://www.cs.toronto.edu/~kriz/cifar.html)."
   ]
  },
  {
   "cell_type": "code",
   "execution_count": null,
   "metadata": {
    "colab": {
     "base_uri": "https://localhost:8080/",
     "height": 506
    },
    "colab_type": "code",
    "id": "nYdibo15G3cp",
    "outputId": "9eb5d561-05b4-46df-9800-139ec3f37033"
   },
   "outputs": [],
   "source": [
    "(cifar10_train_original, cifar10_validate_original, cifar10_test_original), info = tfds.load(\n",
    "    name=\"cifar10\", \n",
    "    split=[\"train[:80%]\", \"train[80%:]\", \"test\"],\n",
    "    with_info=True,\n",
    "    as_supervised=True\n",
    ")\n",
    "print(info)\n",
    "print(\"Train:   \", len(list(cifar10_train_original)))\n",
    "print(\"Validate:\", len(list(cifar10_validate_original)))\n",
    "print(\"Test:    \", len(list(cifar10_test_original)))"
   ]
  },
  {
   "cell_type": "markdown",
   "metadata": {
    "colab_type": "text",
    "id": "vtZoUJNtG3cw"
   },
   "source": [
    "## Look at your data!\n",
    "\n",
    "Again: Never trust the source of your data. Even if you created it. Do not worry, this is not paranoia. It is just a good way how to ensure the quality of your project. Always look at your data, because most of the times if there is something not so nice, the data is the cause."
   ]
  },
  {
   "cell_type": "code",
   "execution_count": null,
   "metadata": {
    "colab": {},
    "colab_type": "code",
    "id": "iAwNcMGvNV6X"
   },
   "outputs": [],
   "source": [
    "class_names = [\"airplane\", \"automobile\", \"bird\", \"cat\", \"deer\", \"dog\", \"frog\", \"horse\", \"ship\", \"truck\"]\n",
    "\n",
    "def label_to_string(label):\n",
    "  return class_names[label]"
   ]
  },
  {
   "cell_type": "code",
   "execution_count": null,
   "metadata": {
    "colab": {
     "base_uri": "https://localhost:8080/",
     "height": 136
    },
    "colab_type": "code",
    "id": "LChp7pOjG3cy",
    "outputId": "4f3901b1-0116-40ef-ba1f-b7d167b44deb"
   },
   "outputs": [],
   "source": [
    "index = 1\n",
    "plt.figure(figsize=(20, 2))\n",
    "for cifar10_example in cifar10_train_original.take(6):\n",
    "    image, label = cifar10_example\n",
    "\n",
    "    plt.subplot(1, 6, index)\n",
    "    plt.imshow(image.numpy())\n",
    "    plt.title(\"Label: {} {}\".format(label.numpy(), label_to_string(label.numpy())))\n",
    "    index += 1\n",
    "plt.show()\n",
    "plt.close()"
   ]
  },
  {
   "cell_type": "markdown",
   "metadata": {
    "colab_type": "text",
    "id": "8PNGuLhrG3c5"
   },
   "source": [
    "## Preparing the datasets with tf.data.\n",
    "\n",
    "We will make sure that all images are normalized and that all labes are one-hot-encoded.\n",
    "\n",
    "Link: [tf.data: Build TensorFlow input pipelines](https://www.tensorflow.org/guide/data)"
   ]
  },
  {
   "cell_type": "code",
   "execution_count": null,
   "metadata": {
    "colab": {},
    "colab_type": "code",
    "id": "-rjd0ZcDG3c7"
   },
   "outputs": [],
   "source": [
    "def encode(image, label):\n",
    "    image_encoded = tf.image.convert_image_dtype(image, dtype=tf.float32)\n",
    "    label_encoded = tf.one_hot(label, depth=10)\n",
    "    return image_encoded, label_encoded\n",
    "\n",
    "cifar10_train = cifar10_train_original.map(lambda image, label: encode(image, label)).cache()\n",
    "cifar10_validate = cifar10_validate_original.map(lambda image, label: encode(image, label)).cache()\n",
    "cifar10_test = cifar10_test_original.map(lambda image, label: encode(image, label)).cache()"
   ]
  },
  {
   "cell_type": "markdown",
   "metadata": {
    "colab_type": "text",
    "id": "D8GKidgGG3dD"
   },
   "source": [
    "## A second look at our data.\n",
    "\n",
    "This is how the data looks like that the Neural Network will be trained on."
   ]
  },
  {
   "cell_type": "code",
   "execution_count": null,
   "metadata": {
    "colab": {
     "base_uri": "https://localhost:8080/",
     "height": 143
    },
    "colab_type": "code",
    "id": "R9RPxyyIG3dG",
    "outputId": "0fc9dea1-d175-48f3-9f1e-13045eaffb21"
   },
   "outputs": [],
   "source": [
    "index = 1\n",
    "plt.figure(figsize=(20, 2))\n",
    "for cifar10_example in cifar10_train.take(6):\n",
    "    image, label = cifar10_example\n",
    "\n",
    "    plt.subplot(1, 6, index)\n",
    "    plt.imshow(image.numpy())\n",
    "    plt.title(\"Label:\\n {}\".format(label.numpy()))\n",
    "    index += 1\n",
    "plt.show()\n",
    "plt.close()"
   ]
  },
  {
   "cell_type": "markdown",
   "metadata": {
    "colab_type": "text",
    "id": "LcvN5iQ2G3dL"
   },
   "source": [
    "## Create a Deep Neural Network to solve our classification problem - Convolutional Neural Network.\n"
   ]
  },
  {
   "cell_type": "code",
   "execution_count": null,
   "metadata": {
    "colab": {
     "base_uri": "https://localhost:8080/",
     "height": 538
    },
    "colab_type": "code",
    "id": "oiA62ErpG3dL",
    "outputId": "ef3dee0e-6e91-464f-ada8-fc506b2491c2"
   },
   "outputs": [],
   "source": [
    "model = models.Sequential()\n",
    "\n",
    "# Convolutional block 1.\n",
    "model.add(layers.Conv2D(32, (3, 3), activation=\"relu\", padding=\"same\", input_shape=(32, 32, 3)))\n",
    "model.add(layers.Conv2D(32, (3, 3), activation=\"relu\", padding=\"same\"))\n",
    "model.add(layers.MaxPooling2D((2, 2)))\n",
    "\n",
    "# Convolutional block 2.\n",
    "model.add(layers.Conv2D(64, (3, 3), activation=\"relu\", padding=\"same\"))\n",
    "model.add(layers.Conv2D(64, (3, 3), activation=\"relu\", padding=\"same\"))\n",
    "model.add(layers.MaxPooling2D((2, 2)))\n",
    "\n",
    "# Convolutional block 3.\n",
    "model.add(layers.Conv2D(128, (3, 3), activation=\"relu\", padding=\"same\"))\n",
    "model.add(layers.Conv2D(128, (3, 3), activation=\"relu\", padding=\"same\"))\n",
    "\n",
    "# Latent space.\n",
    "model.add(layers.Flatten())\n",
    "\n",
    "# Classifier.\n",
    "model.add(layers.Dense(128, activation=\"relu\"))\n",
    "model.add(layers.Dense(10, activation=\"softmax\"))\n",
    "\n",
    "model.summary()"
   ]
  },
  {
   "cell_type": "markdown",
   "metadata": {
    "colab_type": "text",
    "id": "_Igm2pw-G3dR"
   },
   "source": [
    "---\n",
    "\n",
    "The architecture exhibits three structures:\n",
    "\n",
    "1. The Convolutional blocks act as Feature Extractors.\n",
    "2. The Flatten layer facilitates a Latent Space.\n",
    "3. The Dense layers is the actual classifier."
   ]
  },
  {
   "cell_type": "markdown",
   "metadata": {
    "colab_type": "text",
    "id": "IKsmb4szG3dT"
   },
   "source": [
    "## Attach optimizer, loss, and metrics."
   ]
  },
  {
   "cell_type": "code",
   "execution_count": null,
   "metadata": {
    "colab": {},
    "colab_type": "code",
    "id": "cMUwx-wKG3dU"
   },
   "outputs": [],
   "source": [
    "model.compile(\n",
    "    optimizer=\"adam\",\n",
    "    loss=\"categorical_crossentropy\",\n",
    "    metrics=[\"accuracy\"]\n",
    ")"
   ]
  },
  {
   "cell_type": "markdown",
   "metadata": {
    "colab_type": "text",
    "id": "OfjuGdxTG3dh"
   },
   "source": [
    "## How good is our ANN before training?"
   ]
  },
  {
   "cell_type": "code",
   "execution_count": null,
   "metadata": {
    "colab": {
     "base_uri": "https://localhost:8080/",
     "height": 52
    },
    "colab_type": "code",
    "id": "trqPkFSvG3di",
    "outputId": "a4d0ac5f-f1cd-41f2-aac1-526c71080ce4"
   },
   "outputs": [],
   "source": [
    "loss, acc = model.evaluate(cifar10_test.batch(32), verbose=0)\n",
    "print(\"Loss: {}\".format(loss))\n",
    "print(\"Accuracy: {}\".format(acc))"
   ]
  },
  {
   "cell_type": "markdown",
   "metadata": {
    "colab_type": "text",
    "id": "RaMMcUDRG3do"
   },
   "source": [
    "## ANN training."
   ]
  },
  {
   "cell_type": "code",
   "execution_count": null,
   "metadata": {
    "colab": {
     "base_uri": "https://localhost:8080/",
     "height": 1000
    },
    "colab_type": "code",
    "id": "LruQUszWG3dp",
    "outputId": "db339bcf-03e8-49d5-a483-0a608ae438ba"
   },
   "outputs": [],
   "source": [
    "history = model.fit(\n",
    "    cifar10_train.shuffle(10000).batch(batch_size),\n",
    "    epochs=epochs,\n",
    "    validation_data=cifar10_validate.batch(batch_size)\n",
    ")\n",
    "\n",
    "histories[\"Baseline\"] = history"
   ]
  },
  {
   "cell_type": "markdown",
   "metadata": {
    "colab_type": "text",
    "id": "Lrv3V0AWG3dt"
   },
   "source": [
    "## Inspect the history.\n",
    "\n"
   ]
  },
  {
   "cell_type": "code",
   "execution_count": null,
   "metadata": {
    "colab": {
     "base_uri": "https://localhost:8080/",
     "height": 281
    },
    "colab_type": "code",
    "id": "afcWFJZHG3dv",
    "outputId": "6f0deda1-4bf7-4d17-97c7-14491ccadb32"
   },
   "outputs": [],
   "source": [
    "def plot_history(history):\n",
    "  plt.figure(figsize=(10, 4))\n",
    "\n",
    "  plt.subplot(1, 2, 1)\n",
    "  plt.plot(history.history[\"loss\"], label=\"loss\")\n",
    "  plt.plot(history.history[\"val_loss\"], label=\"val_loss\")\n",
    "  plt.legend()\n",
    "  plt.title(\"Losses\")\n",
    "\n",
    "  plt.subplot(1, 2, 2)\n",
    "  plt.plot(history.history[\"accuracy\"], label=\"accuracy\")\n",
    "  plt.plot(history.history[\"val_accuracy\"], label=\"val_accuracy\")\n",
    "  plt.legend()\n",
    "  plt.title(\"Metrics\")\n",
    "\n",
    "  plt.show()\n",
    "  plt.close()\n",
    "\n",
    "plot_history(history)"
   ]
  },
  {
   "cell_type": "markdown",
   "metadata": {
    "colab_type": "text",
    "id": "_Lpuei4adHE-"
   },
   "source": [
    "---\n",
    "\n",
    "Although the problem is solved, we have some severe overfitting."
   ]
  },
  {
   "cell_type": "markdown",
   "metadata": {
    "colab_type": "text",
    "id": "SsIYy321G3d0"
   },
   "source": [
    "## How good is our ANN after training?\n"
   ]
  },
  {
   "cell_type": "code",
   "execution_count": null,
   "metadata": {
    "colab": {
     "base_uri": "https://localhost:8080/",
     "height": 52
    },
    "colab_type": "code",
    "id": "v9tVgnvVG3d7",
    "outputId": "5beaf10b-7bcb-4952-9bf9-c5b7515dfd10"
   },
   "outputs": [],
   "source": [
    "loss, acc = model.evaluate(cifar10_test.batch(32), verbose=0)\n",
    "print(\"Loss: {}\".format(loss))\n",
    "print(\"Accuracy: {}\".format(acc))"
   ]
  },
  {
   "cell_type": "markdown",
   "metadata": {
    "colab_type": "text",
    "id": "yUdumMX202M6"
   },
   "source": [
    "## Reducing overfitting by adding dropout.\n",
    "\n",
    "Dropout enforces generalization by randomly dropping activations during training."
   ]
  },
  {
   "cell_type": "code",
   "execution_count": null,
   "metadata": {
    "colab": {},
    "colab_type": "code",
    "id": "t5DbZiOM6rPV"
   },
   "outputs": [],
   "source": [
    "cifar10_train = cifar10_train_original.map(lambda image, label: encode(image, label)).cache()\n",
    "cifar10_validate = cifar10_validate_original.map(lambda image, label: encode(image, label)).cache()\n",
    "cifar10_test = cifar10_test_original.map(lambda image, label: encode(image, label)).cache()"
   ]
  },
  {
   "cell_type": "code",
   "execution_count": null,
   "metadata": {
    "colab": {
     "base_uri": "https://localhost:8080/",
     "height": 677
    },
    "colab_type": "code",
    "id": "EOe6oOOH6tb6",
    "outputId": "a1b83070-3b43-4705-bc07-001227517484"
   },
   "outputs": [],
   "source": [
    "model = models.Sequential()\n",
    "\n",
    "model.add(layers.Conv2D(32, (3, 3), activation=\"relu\", padding=\"same\", input_shape=(32, 32, 3)))\n",
    "model.add(layers.Conv2D(32, (3, 3), activation=\"relu\", padding=\"same\"))\n",
    "model.add(layers.MaxPooling2D((2, 2)))\n",
    "model.add(layers.Dropout(0.2))\n",
    "\n",
    "model.add(layers.Conv2D(64, (3, 3), activation=\"relu\", padding=\"same\"))\n",
    "model.add(layers.Conv2D(64, (3, 3), activation=\"relu\", padding=\"same\"))\n",
    "model.add(layers.MaxPooling2D((2, 2)))\n",
    "model.add(layers.Dropout(0.3))\n",
    "\n",
    "model.add(layers.Conv2D(128, (3, 3), activation=\"relu\", padding=\"same\"))\n",
    "model.add(layers.Conv2D(128, (3, 3), activation=\"relu\", padding=\"same\"))\n",
    "model.add(layers.Dropout(0.4))\n",
    "\n",
    "model.add(layers.Flatten())\n",
    "\n",
    "model.add(layers.Dense(128, activation=\"relu\"))\n",
    "model.add(layers.Dropout(0.5))\n",
    "model.add(layers.Dense(10, activation=\"softmax\"))\n",
    "\n",
    "model.summary()"
   ]
  },
  {
   "cell_type": "code",
   "execution_count": null,
   "metadata": {
    "colab": {
     "base_uri": "https://localhost:8080/",
     "height": 1000
    },
    "colab_type": "code",
    "id": "XrSpE4Vj6uvj",
    "outputId": "d03e53d0-8976-4caa-ad22-e9d4871a899a"
   },
   "outputs": [],
   "source": [
    "model.compile(\n",
    "    optimizer=\"adam\",\n",
    "    loss=\"categorical_crossentropy\",\n",
    "    metrics=[\"accuracy\"]\n",
    ")\n",
    "\n",
    "history = model.fit(\n",
    "    cifar10_train.shuffle(10000).batch(batch_size),\n",
    "    epochs=epochs,\n",
    "    validation_data=cifar10_validate.batch(batch_size)\n",
    ")\n",
    "\n",
    "histories[\"Dropout\"] = history\n",
    "\n",
    "plot_history(history)"
   ]
  },
  {
   "cell_type": "markdown",
   "metadata": {
    "colab_type": "text",
    "id": "cppWnp9SBgnE"
   },
   "source": [
    "## Reducing overfitting with Dropout and Data Augmentation.\n",
    "\n",
    "Data Augmentation is artificially extending the dataset by changing the original data randomly."
   ]
  },
  {
   "cell_type": "code",
   "execution_count": null,
   "metadata": {
    "colab": {},
    "colab_type": "code",
    "id": "nG5Agfnw6TUD"
   },
   "outputs": [],
   "source": [
    "def augment(image, label):\n",
    "    image_augmented = image\n",
    "    image_augmented = tf.image.random_flip_left_right(image_augmented)\n",
    "    image_augmented = tf.image.random_contrast(image_augmented, 0.5, 1.0)\n",
    "    image_augmented = tf.image.random_brightness(image_augmented, 0.25)\n",
    "    image_augmented = tf.image.random_hue(image_augmented, 0.2)\n",
    "    return image_augmented, label\n",
    "\n",
    "cifar10_train = cifar10_train_original.map(lambda image, label: encode(image, label)).cache()\n",
    "cifar10_train = cifar10_train.map(lambda image, label: augment(image, label))\n",
    "cifar10_validate = cifar10_validate_original.map(lambda image, label: encode(image, label)).cache()\n",
    "cifar10_test = cifar10_test_original.map(lambda image, label: encode(image, label)).cache()"
   ]
  },
  {
   "cell_type": "markdown",
   "metadata": {
    "colab_type": "text",
    "id": "EGLZ1k1ufhpx"
   },
   "source": [
    "--- \n",
    "\n",
    "Let us have a look at how the augmented data looks like."
   ]
  },
  {
   "cell_type": "code",
   "execution_count": null,
   "metadata": {
    "colab": {
     "base_uri": "https://localhost:8080/",
     "height": 206
    },
    "colab_type": "code",
    "id": "YUxJF-Fp8kPk",
    "outputId": "fffb6259-b981-4d80-d341-68a2d03071c1"
   },
   "outputs": [],
   "source": [
    "plt.figure(figsize=(20, 2))\n",
    "index = 1\n",
    "\n",
    "cifar10_example = list(cifar10_train_original.take(1))[0]\n",
    "image, label = cifar10_example\n",
    "plt.subplot(1, 6, index)\n",
    "plt.imshow(image.numpy())\n",
    "plt.title(\"Original\")\n",
    "index += 1\n",
    "\n",
    "for _ in range(6):\n",
    "    cifar10_example = list(cifar10_train.take(1))[0]\n",
    "    image, label = cifar10_example\n",
    "    plt.subplot(1, 7, index)\n",
    "    plt.imshow(image.numpy())\n",
    "    plt.title(\"Augmented\")\n",
    "    index += 1\n",
    "\n",
    "plt.show()\n",
    "plt.close()"
   ]
  },
  {
   "cell_type": "code",
   "execution_count": null,
   "metadata": {
    "colab": {
     "base_uri": "https://localhost:8080/",
     "height": 677
    },
    "colab_type": "code",
    "id": "fTHVeq90-0ek",
    "outputId": "403befda-59a4-424b-cddb-4f3d89acb8eb"
   },
   "outputs": [],
   "source": [
    "model = models.Sequential()\n",
    "\n",
    "model.add(layers.Conv2D(32, (3, 3), activation=\"relu\", padding=\"same\", input_shape=(32, 32, 3)))\n",
    "model.add(layers.Conv2D(32, (3, 3), activation=\"relu\", padding=\"same\"))\n",
    "model.add(layers.MaxPooling2D((2, 2)))\n",
    "model.add(layers.Dropout(0.2))\n",
    "\n",
    "model.add(layers.Conv2D(64, (3, 3), activation=\"relu\", padding=\"same\"))\n",
    "model.add(layers.Conv2D(64, (3, 3), activation=\"relu\", padding=\"same\"))\n",
    "model.add(layers.MaxPooling2D((2, 2)))\n",
    "model.add(layers.Dropout(0.3))\n",
    "\n",
    "model.add(layers.Conv2D(128, (3, 3), activation=\"relu\", padding=\"same\"))\n",
    "model.add(layers.Conv2D(128, (3, 3), activation=\"relu\", padding=\"same\"))\n",
    "model.add(layers.Dropout(0.4))\n",
    "\n",
    "model.add(layers.Flatten())\n",
    "\n",
    "model.add(layers.Dense(128, activation=\"relu\"))\n",
    "model.add(layers.Dropout(0.5))\n",
    "model.add(layers.Dense(10, activation=\"softmax\"))\n",
    "\n",
    "model.summary()"
   ]
  },
  {
   "cell_type": "code",
   "execution_count": null,
   "metadata": {
    "colab": {
     "base_uri": "https://localhost:8080/",
     "height": 1000
    },
    "colab_type": "code",
    "id": "3QeYmHKP-9Os",
    "outputId": "a58ad168-0f9b-4701-922c-85c02e00c47c"
   },
   "outputs": [],
   "source": [
    "model.compile(\n",
    "    optimizer=\"adam\",\n",
    "    loss=\"categorical_crossentropy\",\n",
    "    metrics=[\"accuracy\"]\n",
    ")\n",
    "\n",
    "history = model.fit(\n",
    "    cifar10_train.shuffle(10000).batch(batch_size),\n",
    "    epochs=epochs,\n",
    "    validation_data=cifar10_validate.batch(batch_size)\n",
    ")\n",
    "\n",
    "histories[\"Dropout-Augmentation\"] = history\n",
    "\n",
    "plot_history(history)"
   ]
  },
  {
   "cell_type": "markdown",
   "metadata": {
    "colab_type": "text",
    "id": "bSzqQ3ZoE3OT"
   },
   "source": [
    "## Compare results."
   ]
  },
  {
   "cell_type": "code",
   "execution_count": null,
   "metadata": {
    "colab": {
     "base_uri": "https://localhost:8080/",
     "height": 281
    },
    "colab_type": "code",
    "id": "tD0NrfLEE3Ya",
    "outputId": "6f4b698f-d6d2-4414-e026-04f9c7cf63cf"
   },
   "outputs": [],
   "source": [
    "plt.figure(figsize=(10, 4))\n",
    "  \n",
    "plt.subplot(1, 2, 1)\n",
    "for title, history in histories.items():\n",
    "  plt.plot(history.history[\"val_loss\"], label=title)\n",
    "plt.legend()\n",
    "plt.title(\"Validation Loss\")\n",
    "\n",
    "plt.subplot(1, 2, 2)\n",
    "for title, history in histories.items():\n",
    "  plt.plot(history.history[\"val_accuracy\"], label=title)\n",
    "plt.legend()\n",
    "plt.title(\"Validation Accuracy\")\n",
    "\n",
    "plt.show()\n",
    "plt.close()"
   ]
  },
  {
   "cell_type": "markdown",
   "metadata": {
    "colab_type": "text",
    "id": "5gyY4qHYG3eI"
   },
   "source": [
    "# Summary.\n",
    "\n",
    "For solving image processing problems, Convolutional Neural Networks are state of the art. There are several architecures available. We focused on interleaving Convolutional layers with Pooling layers.\n",
    "\n",
    "As with all other use cases, overfitting can be a problem. We looked at Dropout and Data Augmentation for compensating overfitting."
   ]
  },
  {
   "cell_type": "code",
   "execution_count": null,
   "metadata": {
    "colab": {},
    "colab_type": "code",
    "id": "cuFIoxyfhSVR"
   },
   "outputs": [],
   "source": []
  }
 ],
 "metadata": {
  "accelerator": "GPU",
  "colab": {
   "collapsed_sections": [],
   "name": "04 Image Processing.ipynb",
   "provenance": []
  },
  "kernelspec": {
   "display_name": "Python 3",
   "language": "python",
   "name": "python3"
  },
  "language_info": {
   "codemirror_mode": {
    "name": "ipython",
    "version": 3
   },
   "file_extension": ".py",
   "mimetype": "text/x-python",
   "name": "python",
   "nbconvert_exporter": "python",
   "pygments_lexer": "ipython3",
   "version": "3.7.7"
  }
 },
 "nbformat": 4,
 "nbformat_minor": 1
}
